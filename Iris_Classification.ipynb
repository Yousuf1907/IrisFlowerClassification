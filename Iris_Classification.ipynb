{
 "cells": [
  {
   "cell_type": "code",
   "execution_count": 2,
   "metadata": {},
   "outputs": [],
   "source": [
    "import os\n",
    "import numpy as np\n",
    "import matplotlib.pyplot as plt\n",
    "import tensorflow as tf\n",
    "from tensorflow import keras\n",
    "import glob,shutil\n",
    "\n",
    "# Dataset Link: https://www.kaggle.com/datasets/jeffheaton/iris-computer-vision/data\n",
    "data='Iris-Flowers'\n",
    "classes=['iris-setosa','iris-versicolour','iris-virginica']"
   ]
  },
  {
   "cell_type": "code",
   "execution_count": 3,
   "metadata": {},
   "outputs": [
    {
     "data": {
      "text/plain": [
       "3"
      ]
     },
     "execution_count": 3,
     "metadata": {},
     "output_type": "execute_result"
    }
   ],
   "source": [
    "len(os.listdir(data))"
   ]
  },
  {
   "cell_type": "code",
   "execution_count": 5,
   "metadata": {},
   "outputs": [],
   "source": [
    "train=os.path.join(data,\"train\")\n",
    "test=os.path.join(data,\"test\")\n",
    "\n",
    "os.makedirs(train,exist_ok=True)\n",
    "os.makedirs(test,exist_ok=True)\n",
    "\n",
    "for cl in classes:\n",
    "    os.makedirs(os.path.join(train,cl),exist_ok=True)\n",
    "    os.makedirs(os.path.join(test,cl),exist_ok=True)"
   ]
  },
  {
   "cell_type": "code",
   "execution_count": 8,
   "metadata": {},
   "outputs": [],
   "source": [
    "from sklearn.model_selection import train_test_split\n",
    "\n",
    "for cl in classes:\n",
    "    cl_path=os.path.join(data,cl)\n",
    "    images=os.listdir(cl_path)\n",
    "    \n",
    "    train_images,test_images=train_test_split(images,test_size=0.35,random_state=42)\n",
    "\n",
    "    for image in train_images:\n",
    "        src=os.path.join(cl_path,image)\n",
    "        dst=os.path.join(train,cl,image)\n",
    "        shutil.copyfile(src,dst)\n",
    "        \n",
    "    for image in train_images:\n",
    "        src=os.path.join(cl_path,image)\n",
    "        dst=os.path.join(test,cl,image)\n",
    "        shutil.copyfile(src,dst)\n"
   ]
  },
  {
   "cell_type": "code",
   "execution_count": 16,
   "metadata": {},
   "outputs": [
    {
     "name": "stdout",
     "output_type": "stream",
     "text": [
      "Found 272 images belonging to 3 classes.\n"
     ]
    },
    {
     "name": "stdout",
     "output_type": "stream",
     "text": [
      "Found 272 images belonging to 3 classes.\n"
     ]
    }
   ],
   "source": [
    "from tensorflow.keras.preprocessing.image import ImageDataGenerator\n",
    "\n",
    "train_data_gen=ImageDataGenerator(rescale=1./255,zoom_range=0.2,rotation_range=20,horizontal_flip=True)\n",
    "test_data_gen = ImageDataGenerator(rescale=1./255)\n",
    "\n",
    "train_generator=train_data_gen.flow_from_directory(\n",
    "    shuffle=True,\n",
    "    directory=train,\n",
    "    target_size=(150, 150),\n",
    "    class_mode='categorical'\n",
    ")\n",
    "\n",
    "test_generator=test_data_gen.flow_from_directory(\n",
    "    shuffle=True,\n",
    "    directory=test,\n",
    "    target_size=(150, 150),\n",
    "    class_mode='categorical'\n",
    ")"
   ]
  },
  {
   "cell_type": "code",
   "execution_count": null,
   "metadata": {},
   "outputs": [],
   "source": [
    "from tensorflow.keras.models import Sequential\n",
    "from tensorflow.keras.layers import Conv2D, MaxPooling2D,Flatten,Dense,Dropout\n",
    "\n",
    "model=Sequential([\n",
    "    Conv2D(32, (3,3), activation='relu', input_shape=(150, 150, 3)),\n",
    "    MaxPooling2D(2,2),\n",
    "        Conv2D(64, (3,3), activation='relu'),\n",
    "        MaxPooling2D(2,2),\n",
    "    \n",
    "])"
   ]
  }
 ],
 "metadata": {
  "kernelspec": {
   "display_name": "Python 3",
   "language": "python",
   "name": "python3"
  },
  "language_info": {
   "codemirror_mode": {
    "name": "ipython",
    "version": 3
   },
   "file_extension": ".py",
   "mimetype": "text/x-python",
   "name": "python",
   "nbconvert_exporter": "python",
   "pygments_lexer": "ipython3",
   "version": "3.12.4"
  }
 },
 "nbformat": 4,
 "nbformat_minor": 2
}
